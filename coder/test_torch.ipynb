{
 "cells": [
  {
   "cell_type": "code",
   "execution_count": 1,
   "metadata": {},
   "outputs": [
    {
     "name": "stderr",
     "output_type": "stream",
     "text": [
      "d:\\Anaconda\\envs\\LLms\\lib\\site-packages\\tqdm\\auto.py:21: TqdmWarning: IProgress not found. Please update jupyter and ipywidgets. See https://ipywidgets.readthedocs.io/en/stable/user_install.html\n",
      "  from .autonotebook import tqdm as notebook_tqdm\n"
     ]
    }
   ],
   "source": [
    "import torch"
   ]
  },
  {
   "cell_type": "code",
   "execution_count": 2,
   "metadata": {},
   "outputs": [],
   "source": [
    "embedding = torch.nn.Embedding(10, 3)"
   ]
  },
  {
   "cell_type": "code",
   "execution_count": 3,
   "metadata": {},
   "outputs": [
    {
     "name": "stdout",
     "output_type": "stream",
     "text": [
      "Embedding(10, 3)\n"
     ]
    }
   ],
   "source": [
    "print(embedding)"
   ]
  },
  {
   "cell_type": "code",
   "execution_count": 11,
   "metadata": {},
   "outputs": [
    {
     "name": "stdout",
     "output_type": "stream",
     "text": [
      "[Parameter containing:\n",
      "tensor([[ 0.9857, -0.4409, -0.5023],\n",
      "        [-1.1811,  0.1074, -1.7073],\n",
      "        [-2.1280,  1.3203, -0.3036],\n",
      "        [-0.3111,  1.2616,  1.0787],\n",
      "        [ 0.2928,  1.2481, -1.3790],\n",
      "        [ 1.2427, -0.3067,  2.1434],\n",
      "        [ 0.2074, -0.9600,  0.3037],\n",
      "        [ 0.9559, -1.0391,  0.1019],\n",
      "        [-0.2852, -0.0045,  0.6466],\n",
      "        [ 0.4619,  0.8868,  0.4484]], requires_grad=True)]\n",
      "Parameter containing:\n",
      "tensor([[ 0.9857, -0.4409, -0.5023],\n",
      "        [-1.1811,  0.1074, -1.7073],\n",
      "        [-2.1280,  1.3203, -0.3036],\n",
      "        [-0.3111,  1.2616,  1.0787],\n",
      "        [ 0.2928,  1.2481, -1.3790],\n",
      "        [ 1.2427, -0.3067,  2.1434],\n",
      "        [ 0.2074, -0.9600,  0.3037],\n",
      "        [ 0.9559, -1.0391,  0.1019],\n",
      "        [-0.2852, -0.0045,  0.6466],\n",
      "        [ 0.4619,  0.8868,  0.4484]], requires_grad=True)\n"
     ]
    }
   ],
   "source": [
    "embedding.num_embeddings\n",
    "param = [param for param in embedding.parameters()]\n",
    "print(param)\n",
    "print(embedding.weight)"
   ]
  },
  {
   "cell_type": "code",
   "execution_count": 7,
   "metadata": {},
   "outputs": [
    {
     "data": {
      "text/plain": [
       "tensor([[-1.1811,  0.1074, -1.7073],\n",
       "        [-2.1280,  1.3203, -0.3036],\n",
       "        [-0.3111,  1.2616,  1.0787],\n",
       "        [ 0.2928,  1.2481, -1.3790]], grad_fn=<EmbeddingBackward0>)"
      ]
     },
     "execution_count": 7,
     "metadata": {},
     "output_type": "execute_result"
    }
   ],
   "source": [
    "input_torch = torch.LongTensor([1,2,3,4])\n",
    "embeding_result = embedding(input_torch)\n",
    "print(embeding_result.shape)\n",
    "print(embeding_result)"
   ]
  },
  {
   "cell_type": "code",
   "execution_count": 14,
   "metadata": {},
   "outputs": [
    {
     "ename": "RuntimeError",
     "evalue": "mat1 and mat2 shapes cannot be multiplied (1x4 and 10x3)",
     "output_type": "error",
     "traceback": [
      "\u001b[1;31m---------------------------------------------------------------------------\u001b[0m",
      "\u001b[1;31mRuntimeError\u001b[0m                              Traceback (most recent call last)",
      "Cell \u001b[1;32mIn[14], line 1\u001b[0m\n\u001b[1;32m----> 1\u001b[0m result \u001b[38;5;241m=\u001b[39m \u001b[43mtorch\u001b[49m\u001b[38;5;241;43m.\u001b[39;49m\u001b[43mmatmul\u001b[49m\u001b[43m(\u001b[49m\u001b[43minput_torch\u001b[49m\u001b[43m,\u001b[49m\u001b[43m \u001b[49m\u001b[43membedding\u001b[49m\u001b[38;5;241;43m.\u001b[39;49m\u001b[43mweight\u001b[49m\u001b[43m)\u001b[49m\n\u001b[0;32m      2\u001b[0m result\n",
      "\u001b[1;31mRuntimeError\u001b[0m: mat1 and mat2 shapes cannot be multiplied (1x4 and 10x3)"
     ]
    }
   ],
   "source": [
    "result = torch.matmul(input_torch, embedding.weight)\n",
    "result"
   ]
  }
 ],
 "metadata": {
  "kernelspec": {
   "display_name": "LLms",
   "language": "python",
   "name": "python3"
  },
  "language_info": {
   "codemirror_mode": {
    "name": "ipython",
    "version": 3
   },
   "file_extension": ".py",
   "mimetype": "text/x-python",
   "name": "python",
   "nbconvert_exporter": "python",
   "pygments_lexer": "ipython3",
   "version": "3.10.11"
  }
 },
 "nbformat": 4,
 "nbformat_minor": 2
}
